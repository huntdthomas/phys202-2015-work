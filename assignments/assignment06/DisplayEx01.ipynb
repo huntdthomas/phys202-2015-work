{
 "cells": [
  {
   "cell_type": "markdown",
   "metadata": {
    "nbgrader": {}
   },
   "source": [
    "# Display Exercise 1"
   ]
  },
  {
   "cell_type": "markdown",
   "metadata": {
    "nbgrader": {}
   },
   "source": [
    "## Imports"
   ]
  },
  {
   "cell_type": "markdown",
   "metadata": {
    "nbgrader": {}
   },
   "source": [
    "Put any needed imports needed to display rich output the following cell:"
   ]
  },
  {
   "cell_type": "code",
   "execution_count": 14,
   "metadata": {
    "collapsed": true,
    "deletable": false,
    "nbgrader": {
     "checksum": "6cff4e8e53b15273846c3aecaea84a3d",
     "solution": true
    }
   },
   "outputs": [],
   "source": [
    "from IPython.display import Image\n",
    "from IPython.display import HTML"
   ]
  },
  {
   "cell_type": "code",
   "execution_count": 15,
   "metadata": {
    "collapsed": true,
    "deletable": false,
    "nbgrader": {
     "checksum": "fed914a9fcfb3c6780f71b2a57ca435f",
     "grade": true,
     "grade_id": "displayex01a",
     "points": 2
    }
   },
   "outputs": [],
   "source": [
    "assert True # leave this to grade the import statements"
   ]
  },
  {
   "cell_type": "markdown",
   "metadata": {
    "nbgrader": {}
   },
   "source": [
    "# Basic rich display"
   ]
  },
  {
   "cell_type": "markdown",
   "metadata": {
    "nbgrader": {}
   },
   "source": [
    "Find a Physics related image on the internet and display it in this notebook using the `Image` object.\n",
    "\n",
    "* Load it using the `url` argument to `Image` (don't upload the image to this server).\n",
    "* Make sure the set the `embed` flag so the image is embedded in the notebook data.\n",
    "* Set the width and height to `600px`."
   ]
  },
  {
   "cell_type": "code",
   "execution_count": 16,
   "metadata": {
    "collapsed": false,
    "deletable": false,
    "nbgrader": {
     "checksum": "6cff4e8e53b15273846c3aecaea84a3d",
     "solution": true
    }
   },
   "outputs": [
    {
     "data": {
      "image/png": "[encoded data removed]",
      "text/plain": [
       "<IPython.core.display.Image object>"
      ]
     },
     "execution_count": 16,
     "metadata": {
      "image/png": {
       "height": 600,
       "width": 600
      }
     },
     "output_type": "execute_result"
    }
   ],
   "source": [
    "Image(url='http://upload.wikimedia.org/math/0/4/5/0452024f7afd12aca8b1f3aa0597b79e.png',embed = True,width = 600, height = 600)"
   ]
  },
  {
   "cell_type": "code",
   "execution_count": 17,
   "metadata": {
    "collapsed": true,
    "deletable": false,
    "nbgrader": {
     "checksum": "00df159bd7cb62dbf196367fd7395e7f",
     "grade": true,
     "grade_id": "displayex01b",
     "points": 4
    }
   },
   "outputs": [],
   "source": [
    "assert True # leave this to grade the image display"
   ]
  },
  {
   "cell_type": "markdown",
   "metadata": {
    "nbgrader": {}
   },
   "source": [
    "Use the `HTML` object to display HTML in the notebook that reproduces the table of Quarks on [this page](http://en.wikipedia.org/wiki/List_of_particles). This will require you to learn about how to create HTML tables and then pass that to the HTML object for display. Don't worry about styling and formatting the table, but you should use LaTeX where appropriate."
   ]
  },
  {
   "cell_type": "code",
   "execution_count": 36,
   "metadata": {
    "collapsed": false,
    "deletable": false,
    "nbgrader": {
     "checksum": "6cff4e8e53b15273846c3aecaea84a3d",
     "solution": true
    }
   },
   "outputs": [
    {
     "data": {
      "text/html": [
       "<table>\n",
       "<tr>\n",
       "<th>Name</th>\n",
       "<th>Symbol</th>\n",
       "<th>Antiparticle</th>\n",
       "<th>Charge $(e)$</th>\n",
       "<th>Mass $(MeV/c^2)$</th>\n",
       "</tr>\n",
       "\n",
       "<tr>\n",
       "<td>Up</td>\n",
       "<td>u</td>\n",
       "<td>$\\bar{u}$</td>\n",
       "<td>$+\\frac{2}{3}$</td>\n",
       "<td>1.5-3.3</td>\n",
       "</tr>\n",
       "\n",
       "<tr>\n",
       "<td>Down</td>\n",
       "<td>d</td>\n",
       "<td>$\\bar{d}$</td>\n",
       "<td>$-\\frac{1}{3}$</td>\n",
       "<td>3.5-6.0</td>\n",
       "</tr>\n",
       "\n",
       "<tr>\n",
       "<td>Charm</td>\n",
       "<td>c</td>\n",
       "<td>$\\bar{t}$</td>\n",
       "<td>$+\\frac{2}{3}$</td>\n",
       "<td>1,160-1,340</td>\n",
       "</tr>\n",
       "\n",
       "<tr>\n",
       "<td>Strange</td>\n",
       "<td>s</td>\n",
       "<td>$\\bar{s}$</td>\n",
       "<td>$-\\frac{1}{3}$</td>\n",
       "<td>70-130</td>\n",
       "</tr>\n",
       "\n",
       "<tr>\n",
       "<td>Top</td>\n",
       "<td>t</td>\n",
       "<td>$\\bar{t}$</td>\n",
       "<td>$+\\frac{2}{3}$</td>\n",
       "<td>169,100 - 173,300</td>\n",
       "</tr>\n",
       "\n",
       "<tr>\n",
       "<td>Bottom</td>\n",
       "<td>b</td>\n",
       "<td>$\\bar{b}$</td>\n",
       "<td>$-\\frac{1}{3}$</td>\n",
       "<td>4,130-4,370</td>\n",
       "</tr>\n",
       "\n",
       "</table>"
      ],
      "text/plain": [
       "<IPython.core.display.HTML object>"
      ]
     },
     "metadata": {},
     "output_type": "display_data"
    }
   ],
   "source": [
    "%%html\n",
    "<table>\n",
    "<tr>\n",
    "<th>Name</th>\n",
    "<th>Symbol</th>\n",
    "<th>Antiparticle</th>\n",
    "<th>Charge $(e)$</th>\n",
    "<th>Mass $(MeV/c^2)$</th>\n",
    "</tr>\n",
    "\n",
    "<tr>\n",
    "<td>Up</td>\n",
    "<td>u</td>\n",
    "<td>$\\bar{u}$</td>\n",
    "<td>$+\\frac{2}{3}$</td>\n",
    "<td>1.5-3.3</td>\n",
    "</tr>\n",
    "\n",
    "<tr>\n",
    "<td>Down</td>\n",
    "<td>d</td>\n",
    "<td>$\\bar{d}$</td>\n",
    "<td>$-\\frac{1}{3}$</td>\n",
    "<td>3.5-6.0</td>\n",
    "</tr>\n",
    "\n",
    "<tr>\n",
    "<td>Charm</td>\n",
    "<td>c</td>\n",
    "<td>$\\bar{t}$</td>\n",
    "<td>$+\\frac{2}{3}$</td>\n",
    "<td>1,160-1,340</td>\n",
    "</tr>\n",
    "\n",
    "<tr>\n",
    "<td>Strange</td>\n",
    "<td>s</td>\n",
    "<td>$\\bar{s}$</td>\n",
    "<td>$-\\frac{1}{3}$</td>\n",
    "<td>70-130</td>\n",
    "</tr>\n",
    "\n",
    "<tr>\n",
    "<td>Top</td>\n",
    "<td>t</td>\n",
    "<td>$\\bar{t}$</td>\n",
    "<td>$+\\frac{2}{3}$</td>\n",
    "<td>169,100 - 173,300</td>\n",
    "</tr>\n",
    "\n",
    "<tr>\n",
    "<td>Bottom</td>\n",
    "<td>b</td>\n",
    "<td>$\\bar{b}$</td>\n",
    "<td>$-\\frac{1}{3}$</td>\n",
    "<td>4,130-4,370</td>\n",
    "</tr>\n",
    "\n",
    "</table>"
   ]
  },
  {
   "cell_type": "code",
   "execution_count": null,
   "metadata": {
    "collapsed": true,
    "deletable": false,
    "nbgrader": {
     "checksum": "cbfeafa3f168e0c4f55bc93ea685d014",
     "grade": true,
     "grade_id": "displayex01c",
     "points": 4
    }
   },
   "outputs": [],
   "source": [
    "assert True # leave this here to grade the quark table"
   ]
  }
 ],
 "metadata": {
  "kernelspec": {
   "display_name": "Python 3",
   "language": "python",
   "name": "python3"
  },
  "language_info": {
   "codemirror_mode": {
    "name": "ipython",
    "version": 3
   },
   "file_extension": ".py",
   "mimetype": "text/x-python",
   "name": "python",
   "nbconvert_exporter": "python",
   "pygments_lexer": "ipython3",
   "version": "3.4.0"
  }
 },
 "nbformat": 4,
 "nbformat_minor": 0
}
