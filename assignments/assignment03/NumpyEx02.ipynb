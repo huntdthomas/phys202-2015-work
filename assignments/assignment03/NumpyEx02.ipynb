{
 "cells": [
  {
   "cell_type": "markdown",
   "metadata": {
    "nbgrader": {}
   },
   "source": [
    "# Numpy Exercise 2"
   ]
  },
  {
   "cell_type": "markdown",
   "metadata": {
    "nbgrader": {}
   },
   "source": [
    "## Imports"
   ]
  },
  {
   "cell_type": "code",
   "execution_count": 3,
   "metadata": {
    "collapsed": true,
    "nbgrader": {}
   },
   "outputs": [],
   "source": [
    "import numpy as np\n",
    "%matplotlib inline\n",
    "import matplotlib.pyplot as plt\n",
    "import seaborn as sns"
   ]
  },
  {
   "cell_type": "markdown",
   "metadata": {
    "nbgrader": {}
   },
   "source": [
    "## Factorial"
   ]
  },
  {
   "cell_type": "markdown",
   "metadata": {
    "nbgrader": {}
   },
   "source": [
    "Write a function that computes the factorial of small numbers using `np.arange` and `np.cumprod`."
   ]
  },
  {
   "cell_type": "code",
   "execution_count": 30,
   "metadata": {
    "collapsed": false,
    "nbgrader": {
     "checksum": "4e72a0f70d32914a77d8d31ae0c2fb5a",
     "solution": true
    }
   },
   "outputs": [
    {
     "data": {
      "text/plain": [
       "[1, 1, 2, 6, 24, 120, 720, 5040, 40320, 362880, 3628800]"
      ]
     },
     "execution_count": 30,
     "metadata": {},
     "output_type": "execute_result"
    }
   ],
   "source": [
    "def np_fact(n):\n",
    "    if n == 0:\n",
    "        return 1\n",
    "    num = np.arange(1,n+1)\n",
    "    fact = num.cumprod()\n",
    "    return list(fact).pop()\n",
    "#check\n",
    "[np_fact(i) for i in range(0,11)]\n",
    "#good"
   ]
  },
  {
   "cell_type": "code",
   "execution_count": 29,
   "metadata": {
    "collapsed": false,
    "deletable": false,
    "nbgrader": {
     "checksum": "fcb54de452abd89e3b1818a34678d4b4",
     "grade": true,
     "grade_id": "numpyex02a",
     "points": 4
    }
   },
   "outputs": [],
   "source": [
    "assert np_fact(0)==1\n",
    "assert np_fact(1)==1\n",
    "assert np_fact(10)==3628800\n",
    "assert [np_fact(i) for i in range(0,11)]==[1,1,2,6,24,120,720,5040,40320,362880,3628800]"
   ]
  },
  {
   "cell_type": "markdown",
   "metadata": {
    "nbgrader": {}
   },
   "source": [
    "Write a function that computes the factorial of small numbers using a Python loop."
   ]
  },
  {
   "cell_type": "code",
   "execution_count": 52,
   "metadata": {
    "collapsed": false,
    "nbgrader": {
     "checksum": "9341aa5eb68a3ce57e5cce1cd9192021",
     "solution": true
    }
   },
   "outputs": [
    {
     "data": {
      "text/plain": [
       "3628800"
      ]
     },
     "execution_count": 52,
     "metadata": {},
     "output_type": "execute_result"
    }
   ],
   "source": [
    "def loop_fact(n):\n",
    "    if n == 0:\n",
    "        return 1\n",
    "    total = 1\n",
    "    for i in range(1,n+1):\n",
    "        total = total*i\n",
    "    return total\n",
    "loop_fact(10)"
   ]
  },
  {
   "cell_type": "code",
   "execution_count": 53,
   "metadata": {
    "collapsed": false,
    "deletable": false,
    "nbgrader": {
     "checksum": "a9946f0fdca1abf66ddfb0454ab10113",
     "grade": true,
     "grade_id": "numpyex02b",
     "points": 4
    }
   },
   "outputs": [],
   "source": [
    "assert loop_fact(0)==1\n",
    "assert loop_fact(1)==1\n",
    "assert loop_fact(10)==3628800\n",
    "assert [loop_fact(i) for i in range(0,11)]==[1,1,2,6,24,120,720,5040,40320,362880,3628800]"
   ]
  },
  {
   "cell_type": "markdown",
   "metadata": {
    "nbgrader": {}
   },
   "source": [
    "Use the `%timeit` magic to time both versions of this function for an argument of `50`. The syntax for `%timeit` is:\n",
    "\n",
    "```python\n",
    "%timeit -n1 -r1 function_to_time()\n",
    "```"
   ]
  },
  {
   "cell_type": "code",
   "execution_count": 61,
   "metadata": {
    "collapsed": false,
    "deletable": false,
    "nbgrader": {
     "checksum": "6cff4e8e53b15273846c3aecaea84a3d",
     "solution": true
    },
    "scrolled": true
   },
   "outputs": [
    {
     "name": "stdout",
     "output_type": "stream",
     "text": [
      "Using regular old python loops I got\n",
      "1 loops, best of 1: 16 µs per loop\n",
      "Using the new fancy NumPy stuff I got\n",
      "1 loops, best of 1: 65.1 µs per loop\n"
     ]
    }
   ],
   "source": [
    "print(\"Using regular old python loops I got\")\n",
    "%timeit -n1 -r1 loop_fact(50)\n",
    "print(\"Using the new fancy NumPy stuff I got\")\n",
    "%timeit -n1 -r1 np_fact(50)"
   ]
  },
  {
   "cell_type": "markdown",
   "metadata": {
    "nbgrader": {}
   },
   "source": [
    "In the cell below, summarize your timing tests. Which version is faster? Why do you think that version is faster?"
   ]
  },
  {
   "cell_type": "markdown",
   "metadata": {
    "deletable": false,
    "nbgrader": {
     "checksum": "84e52188175a63ea7106817b9b063eef",
     "grade": true,
     "grade_id": "numpyex02c",
     "points": 2,
     "solution": true
    }
   },
   "source": [
    "YOUR ANSWER HERE"
   ]
  },
  {
   "cell_type": "markdown",
   "metadata": {},
   "source": [
    "It appears that the NumPy calculation takes longer than the regular old python loop stuff. In calculating the NumPy factorial I had to use np.cumprod, which appears to generate a list of cumulative products, not just the last value (which is why i had to list().pop() it out). These extra calculations likely slow down the overall calculation."
   ]
  }
 ],
 "metadata": {
  "kernelspec": {
   "display_name": "Python 2",
   "language": "python",
   "name": "python2"
  },
  "language_info": {
   "codemirror_mode": {
    "name": "ipython",
    "version": 2
   },
   "file_extension": ".py",
   "mimetype": "text/x-python",
   "name": "python",
   "nbconvert_exporter": "python",
   "pygments_lexer": "ipython2",
   "version": "2.7.6"
  }
 },
 "nbformat": 4,
 "nbformat_minor": 0
}
