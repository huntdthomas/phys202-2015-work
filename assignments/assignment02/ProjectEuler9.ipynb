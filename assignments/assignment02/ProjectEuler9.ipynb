{
 "cells": [
  {
   "cell_type": "markdown",
   "metadata": {
    "nbgrader": {}
   },
   "source": [
    "# Project Euler: Problem 9"
   ]
  },
  {
   "cell_type": "markdown",
   "metadata": {
    "nbgrader": {}
   },
   "source": [
    "https://projecteuler.net/problem=9\n",
    "\n",
    "A Pythagorean triplet is a set of three natural numbers, $a < b < c$, for which,\n",
    "\n",
    "$$a^2 + b^2 = c^2$$\n",
    "\n",
    "For example, $3^2 + 4^2 = 9 + 16 = 25 = 5^2$.\n",
    "\n",
    "There exists exactly one Pythagorean triplet for which $a + b + c = 1000$. Find the product abc."
   ]
  },
  {
   "cell_type": "code",
   "execution_count": null,
   "metadata": {
    "collapsed": false,
    "deletable": false,
    "nbgrader": {
     "checksum": "6cff4e8e53b15273846c3aecaea84a3d",
     "solution": true
    }
   },
   "outputs": [],
   "source": [
    "#checks to see if Pythagorean \n",
    "def is_PT(a,b,c):\n",
    "    if a**2 + b**2 == c**2:\n",
    "        return True\n",
    "    else:\n",
    "        return False\n",
    "#checks to see if numbers sum to 1000    \n",
    "def is_sum_1000(a,b,c):\n",
    "    if a + b + c == 1000:\n",
    "        return True\n",
    "    else:\n",
    "        return False\n",
    "#iterates over 1000 possible values for both a, b, and c and prints the product of a*b*c who\n",
    "# satisfies is_sum_1000 and is_PT\n",
    "for i in range(1000):\n",
    "    for k in range(1000):\n",
    "        for l in range(1000):\n",
    "            if is_PT(i,k,l) == True and is_sum_1000(i,k,l) == True:\n",
    "                print(\"The product of the Pythagorean triplet whose sum is 1000 is\", i*k*l)"
   ]
  },
  {
   "cell_type": "code",
   "execution_count": null,
   "metadata": {
    "collapsed": true,
    "deletable": false,
    "nbgrader": {
     "checksum": "b69b04efdc2f53ed5e3904c5ed86c12e",
     "grade": true,
     "grade_id": "projecteuler9",
     "points": 10
    }
   },
   "outputs": [],
   "source": [
    "# This cell will be used for grading, leave it at the end of the notebook."
   ]
  }
 ],
 "metadata": {
  "kernelspec": {
   "display_name": "Python 3",
   "language": "python",
   "name": "python3"
  },
  "language_info": {
   "codemirror_mode": {
    "name": "ipython",
    "version": 3
   },
   "file_extension": ".py",
   "mimetype": "text/x-python",
   "name": "python",
   "nbconvert_exporter": "python",
   "pygments_lexer": "ipython3",
   "version": "3.4.0"
  }
 },
 "nbformat": 4,
 "nbformat_minor": 0
}
