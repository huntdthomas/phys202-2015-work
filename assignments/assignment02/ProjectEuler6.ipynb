{
 "cells": [
  {
   "cell_type": "markdown",
   "metadata": {
    "nbgrader": {}
   },
   "source": [
    "# Project Euler: Problem 6"
   ]
  },
  {
   "cell_type": "markdown",
   "metadata": {
    "nbgrader": {}
   },
   "source": [
    "https://projecteuler.net/problem=6\n",
    "\n",
    "The sum of the squares of the first ten natural numbers is,\n",
    "\n",
    "$$1^2 + 2^2 + ... + 10^2 = 385$$\n",
    "\n",
    "The square of the sum of the first ten natural numbers is,\n",
    "\n",
    "$$(1 + 2 + ... + 10)^2 = 552 = 3025$$\n",
    "\n",
    "Hence the difference between the sum of the squares of the first ten natural numbers and the square of the sum is 3025 − 385 = 2640."
   ]
  },
  {
   "cell_type": "code",
   "execution_count": 2,
   "metadata": {
    "collapsed": false,
    "deletable": false,
    "nbgrader": {
     "checksum": "6cff4e8e53b15273846c3aecaea84a3d",
     "solution": true
    }
   },
   "outputs": [
    {
     "name": "stdout",
     "output_type": "stream",
     "text": [
      "The difference between the sum of squares from 1 to 100 and the square of sums over the samae inteveral is 25164150\n"
     ]
    }
   ],
   "source": [
    "#returns the square of a sum of numbers from 0 to i\n",
    "def square_sum(i):\n",
    "    num = 0\n",
    "    total = 0\n",
    "    for num in range(i):\n",
    "        num += 1\n",
    "        total = total + num\n",
    "    return total**2\n",
    "#returns the sum of squares of numbers from 0 to i\n",
    "def sum_square(i):\n",
    "    num = 0\n",
    "    total = 0\n",
    "    for num in range(i):\n",
    "        num += 1\n",
    "        total += num**2\n",
    "    return total\n",
    "#prints the difference of the previous quantities\n",
    "print(\"The difference between the sum of squares from 1 to 100 and the square of sums over the same inteveral is\",square_sum(100)-sum_square(100))"
   ]
  },
  {
   "cell_type": "code",
   "execution_count": null,
   "metadata": {
    "collapsed": true,
    "deletable": false,
    "nbgrader": {
     "checksum": "4a8ce9efca8c824de365eec816018842",
     "grade": true,
     "grade_id": "projecteuler6",
     "points": 10
    }
   },
   "outputs": [],
   "source": [
    "# This cell will be used for grading, leave it at the end of the notebook."
   ]
  }
 ],
 "metadata": {
  "kernelspec": {
   "display_name": "Python 3",
   "language": "python",
   "name": "python3"
  },
  "language_info": {
   "codemirror_mode": {
    "name": "ipython",
    "version": 3
   },
   "file_extension": ".py",
   "mimetype": "text/x-python",
   "name": "python",
   "nbconvert_exporter": "python",
   "pygments_lexer": "ipython3",
   "version": "3.4.0"
  }
 },
 "nbformat": 4,
 "nbformat_minor": 0
}
