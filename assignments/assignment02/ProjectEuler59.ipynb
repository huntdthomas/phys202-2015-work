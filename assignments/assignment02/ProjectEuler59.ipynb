{
 "cells": [
  {
   "cell_type": "markdown",
   "metadata": {
    "nbgrader": {}
   },
   "source": [
    "# Project Euler: Problem 59"
   ]
  },
  {
   "cell_type": "markdown",
   "metadata": {
    "nbgrader": {}
   },
   "source": [
    "https://projecteuler.net/problem=59\n",
    "\n",
    "Each character on a computer is assigned a unique code and the preferred standard is ASCII (American Standard Code for Information Interchange). For example, uppercase A = 65, asterisk (*) = 42, and lowercase k = 107.\n",
    "\n",
    "A modern encryption method is to take a text file, convert the bytes to ASCII, then XOR each byte with a given value, taken from a secret key. The advantage with the XOR function is that using the same encryption key on the cipher text, restores the plain text; for example, 65 XOR 42 = 107, then 107 XOR 42 = 65.\n",
    "\n",
    "For unbreakable encryption, the key is the same length as the plain text message, and the key is made up of random bytes. The user would keep the encrypted message and the encryption key in different locations, and without both \"halves\", it is impossible to decrypt the message.\n",
    "\n",
    "Unfortunately, this method is impractical for most users, so the modified method is to use a password as a key. If the password is shorter than the message, which is likely, the key is repeated cyclically throughout the message. The balance for this method is using a sufficiently long password key for security, but short enough to be memorable.\n",
    "\n",
    "Your task has been made easy, as the encryption key consists of three lower case characters. Using cipher.txt (in this directory), a file containing the encrypted ASCII codes, and the knowledge that the plain text must contain common English words, decrypt the message and find the sum of the ASCII values in the original text."
   ]
  },
  {
   "cell_type": "markdown",
   "metadata": {
    "nbgrader": {}
   },
   "source": [
    "The following cell shows examples of how to perform XOR in Python and how to go back and forth between characters and integers:"
   ]
  },
  {
   "cell_type": "code",
   "execution_count": null,
   "metadata": {
    "collapsed": true,
    "nbgrader": {}
   },
   "outputs": [],
   "source": [
    "assert 65 ^ 42 == 107\n",
    "assert 107 ^ 42 == 65\n",
    "assert ord('a') == 97\n",
    "assert chr(97) == 'a'"
   ]
  },
  {
   "cell_type": "markdown",
   "metadata": {
    "nbgrader": {}
   },
   "source": [
    "Certain functions in the `itertools` module may be useful for computing permutations:"
   ]
  },
  {
   "cell_type": "code",
   "execution_count": 7,
   "metadata": {
    "collapsed": true,
    "nbgrader": {}
   },
   "outputs": [],
   "source": [
    "from itertools import permutations"
   ]
  },
  {
   "cell_type": "code",
   "execution_count": 10,
   "metadata": {
    "collapsed": false,
    "deletable": false,
    "nbgrader": {
     "checksum": "6cff4e8e53b15273846c3aecaea84a3d",
     "solution": true
    }
   },
   "outputs": [
    {
     "name": "stdout",
     "output_type": "stream",
     "text": [
      "(The Gospel of John, chapter 1) 1 In the beginning the Word already existed. He was with God, and he was God. 2 He was in the beginning with God. 3 He created everything there is. Nothing exists that he didn't make. 4 Life itself was in him, and this life gives light to everyone. 5 The light shines through the darkness, and the darkness can never extinguish it. 6 God sent John the Baptist 7 to tell everyone about the light so that everyone might believe because of his testimony. 8 John himself was not the light; he was only a witness to the light. 9 The one who is the true light, who gives light to everyone, was going to come into the world. 10 But although the world was made through him, the world didn't recognize him when he came. 11 Even in his own land and among his own people, he was not accepted. 12 But to all who believed him and accepted him, he gave the right to become children of God. 13 They are reborn! This is not a physical birth resulting from human passion or plan, this rebirth comes from God.14 So the Word became human and lived here on earth among us. He was full of unfailing love and faithfulness. And we have seen his glory, the glory of the only Son of the Father.\n",
      "(The Gospel of John, chapter 1) 1 In the beginning the Word already existed. He was with God, and he was God. 2 He was in the beginning with God. 3 He created everything there is. Nothing exists that he didn't make. 4 Life itself was in him, and this life gives light to everyone. 5 The light shines through the darkness, and the darkness can never extinguish it. 6 God sent John the Baptist 7 to tell everyone about the light so that everyone might believe because of his testimony. 8 John himself was not the light; he was only a witness to the light. 9 The one who is the true light, who gives light to everyone, was going to come into the world. 10 But although the world was made through him, the world didn't recognize him when he came. 11 Even in his own land and among his own people, he was not accepted. 12 But to all who believed him and accepted him, he gave the right to become children of God. 13 They are reborn! This is not a physical birth resulting from human passion or plan, this rebirth comes from God.14 So the Word became human and lived here on earth among us. He was full of unfailing love and faithfulness. And we have seen his glory, the glory of the only Son of the Father.\n",
      "107359\n"
     ]
    }
   ],
   "source": [
    "f = open(\"cipher.txt\")\n",
    "string = f.read()\n",
    "intlist = []\n",
    "#opens the list and splits the long string into \n",
    "for i in string.split(\",\"):\n",
    "    intlist.append(i)\n",
    "key = list(permutations('abcdefghijklmnopqrstuvwxyz', 3))\n",
    "#breaks list of cipher into 3 lists, every other 3\n",
    "# this will make is so that key[0] operates on list1, key[1] on list2, etc.\n",
    "list1 = intlist[::3]\n",
    "list2 = intlist[1::3]\n",
    "list3 = intlist[2::3]\n",
    "\n",
    "intlist1 = []\n",
    "intlist2 = []\n",
    "intlist3 = []\n",
    "\n",
    "for i in list1:\n",
    "    intlist1.append(int(i))\n",
    "for i in list2:\n",
    "    intlist2.append(int(i))\n",
    "for i in list3:\n",
    "    intlist3.append(int(i))\n",
    "#these are the functions that decrypt my lists. notice how each list gets its own function,\n",
    "#and within the list the element of the key that is chosen to operate on the list is a single value\n",
    "def decrypt1(intlist1,key):\n",
    "    decryptlist1 = []\n",
    "    for i in intlist1:\n",
    "        decryptlist1.append(i^ord(key[0]))\n",
    "    return decryptlist1\n",
    "\n",
    "def decrypt2(intlist2,key):\n",
    "    decryptlist2 = []\n",
    "    for i in intlist2:\n",
    "        decryptlist2.append(i^ord(key[1]))\n",
    "    return decryptlist2\n",
    "\n",
    "def decrypt3(intlist3,key):\n",
    "    decryptlist3 = []\n",
    "    for i in intlist3:\n",
    "        decryptlist3.append(i^ord(key[2]))\n",
    "    return decryptlist3\n",
    "#checks to see if the thing passed to the function is in the set of english letters and some punctuation\n",
    "#Prof suggested I search for words like \" the \" because the rest should return gibberish\n",
    "def isLetter(thing):\n",
    "    if \" the \" in thing:\n",
    "        return True\n",
    "    else:\n",
    "        return False\n",
    "    \n",
    "def assemble(intlist1,intlist2,intlist3,key):\n",
    "    newlist = []\n",
    "    a = 0\n",
    "    intlist1conv = decrypt1(intlist1,key)\n",
    "    intlist2conv = decrypt2(intlist2,key)\n",
    "    intlist3conv = decrypt3(intlist3,key)\n",
    "    while a < len(intlist1conv):\n",
    "        newlist.append(intlist1conv[a])\n",
    "        if a >= len(intlist2conv):\n",
    "            return newlist\n",
    "        else:\n",
    "            newlist.append(intlist2conv[a])\n",
    "        if a >= len(intlist3conv):\n",
    "            return newlist\n",
    "        else:\n",
    "            newlist.append(intlist3conv[a])\n",
    "            a+=1\n",
    "    return newlist\n",
    "for i in key:\n",
    "    newlist = assemble(intlist1,intlist2,intlist3,i)\n",
    "    newthing = []\n",
    "    for i in newlist:\n",
    "        newthing.append(chr(i))\n",
    "    message = ''\n",
    "    for i in newthing:\n",
    "        message += i\n",
    "    if isLetter(message) == True:\n",
    "        print(message)\n",
    "        newmessage = message\n",
    "also = 0\n",
    "print(newmessage)\n",
    "for i in newmessage:\n",
    "    also = also + ord(i)\n",
    "print(also)"
   ]
  },
  {
   "cell_type": "code",
   "execution_count": 75,
   "metadata": {
    "collapsed": true,
    "deletable": false,
    "nbgrader": {
     "checksum": "dcdf6792a88c661545d3ca651212dba8",
     "grade": true,
     "grade_id": "projecteuler59",
     "points": 10
    }
   },
   "outputs": [],
   "source": [
    "# This cell will be used for grading, leave it at the end of the notebook."
   ]
  },
  {
   "cell_type": "code",
   "execution_count": 57,
   "metadata": {
    "collapsed": false
   },
   "outputs": [
    {
     "name": "stdout",
     "output_type": "stream",
     "text": [
      "None\n"
     ]
    }
   ],
   "source": []
  },
  {
   "cell_type": "code",
   "execution_count": null,
   "metadata": {
    "collapsed": true
   },
   "outputs": [],
   "source": []
  }
 ],
 "metadata": {
  "kernelspec": {
   "display_name": "Python 3",
   "language": "python",
   "name": "python3"
  },
  "language_info": {
   "codemirror_mode": {
    "name": "ipython",
    "version": 3
   },
   "file_extension": ".py",
   "mimetype": "text/x-python",
   "name": "python",
   "nbconvert_exporter": "python",
   "pygments_lexer": "ipython3",
   "version": "3.4.0"
  }
 },
 "nbformat": 4,
 "nbformat_minor": 0
}
