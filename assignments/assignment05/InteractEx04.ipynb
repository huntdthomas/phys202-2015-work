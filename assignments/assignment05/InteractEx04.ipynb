{
 "cells": [
  {
   "cell_type": "markdown",
   "metadata": {
    "nbgrader": {}
   },
   "source": [
    "# Interact Exercise 4"
   ]
  },
  {
   "cell_type": "markdown",
   "metadata": {
    "nbgrader": {}
   },
   "source": [
    "## Imports"
   ]
  },
  {
   "cell_type": "code",
   "execution_count": 1,
   "metadata": {
    "collapsed": false,
    "nbgrader": {}
   },
   "outputs": [],
   "source": [
    "%matplotlib inline\n",
    "import matplotlib.pyplot as plt\n",
    "import numpy as np"
   ]
  },
  {
   "cell_type": "code",
   "execution_count": 2,
   "metadata": {
    "collapsed": false,
    "nbgrader": {}
   },
   "outputs": [
    {
     "name": "stderr",
     "output_type": "stream",
     "text": [
      ":0: FutureWarning: IPython widgets are experimental and may change in the future.\n"
     ]
    }
   ],
   "source": [
    "from IPython.html.widgets import interact, interactive, fixed\n",
    "from IPython.display import display"
   ]
  },
  {
   "cell_type": "markdown",
   "metadata": {
    "nbgrader": {}
   },
   "source": [
    "## Line with Gaussian noise"
   ]
  },
  {
   "cell_type": "markdown",
   "metadata": {
    "nbgrader": {}
   },
   "source": [
    "Write a function named `random_line` that creates `x` and `y` data for a line with y direction random noise that has a normal distribution $N(0,\\sigma^2)$:\n",
    "\n",
    "$$\n",
    "y = m x + b + N(0,\\sigma^2)\n",
    "$$\n",
    "\n",
    "Be careful about the `sigma=0.0` case."
   ]
  },
  {
   "cell_type": "code",
   "execution_count": 3,
   "metadata": {
    "collapsed": false,
    "nbgrader": {
     "checksum": "f1fccd14526477d1457886a737404055",
     "solution": true
    }
   },
   "outputs": [],
   "source": [
    "def random_line(m, b, sigma, size=10):\n",
    "    \"\"\"Create a line y = m*x + b + N(0,sigma**2) between x=[-1.0,1.0]\n",
    "    \n",
    "    Parameters\n",
    "    ----------\n",
    "    m : float\n",
    "        The slope of the line.\n",
    "    b : float\n",
    "        The y-intercept of the line.\n",
    "    sigma : float\n",
    "        The standard deviation of the y direction normal distribution noise.\n",
    "    size : int\n",
    "        The number of points to create for the line.\n",
    "    \n",
    "    Returns\n",
    "    -------\n",
    "    x : array of floats\n",
    "        The array of x values for the line with `size` points.\n",
    "    y : array of floats\n",
    "        The array of y values for the lines with `size` points.\n",
    "    \"\"\"\n",
    "    x = np.linspace(-1.0,1.0,size)\n",
    "    if sigma == 0:\n",
    "        y = m*x + b\n",
    "    else:\n",
    "        N = np.random.normal(0,sigma**2,size)\n",
    "        y = m*x + b + N\n",
    "    return x, y"
   ]
  },
  {
   "cell_type": "code",
   "execution_count": 4,
   "metadata": {
    "collapsed": false,
    "deletable": false,
    "nbgrader": {
     "checksum": "085b717fea11f553f5549a88b1090e24",
     "grade": true,
     "grade_id": "interactex04a",
     "points": 2
    }
   },
   "outputs": [],
   "source": [
    "m = 0.0; b = 1.0; sigma=0.0; size=3\n",
    "x, y = random_line(m, b, sigma, size)\n",
    "assert len(x)==len(y)==size\n",
    "assert list(x)==[-1.0,0.0,1.0]\n",
    "assert list(y)==[1.0,1.0,1.0]\n",
    "sigma = 1.0\n",
    "m = 0.0; b = 0.0\n",
    "size = 500\n",
    "x, y = random_line(m, b, sigma, size)\n",
    "assert np.allclose(np.mean(y-m*x-b), 0.0, rtol=0.1, atol=0.1)\n",
    "assert np.allclose(np.std(y-m*x-b), sigma, rtol=0.1, atol=0.1)"
   ]
  },
  {
   "cell_type": "markdown",
   "metadata": {
    "nbgrader": {}
   },
   "source": [
    "Write a function named `plot_random_line` that takes the same arguments as `random_line` and creates a random line using `random_line` and then plots the `x` and `y` points using Matplotlib's `scatter` function:\n",
    "\n",
    "* Make the marker color settable through a `color` keyword argument with a default of `red`.\n",
    "* Display the range $x=[-1.1,1.1]$ and $y=[-10.0,10.0]$.\n",
    "* Customize your plot to make it effective and beautiful."
   ]
  },
  {
   "cell_type": "code",
   "execution_count": 5,
   "metadata": {
    "collapsed": true,
    "nbgrader": {}
   },
   "outputs": [],
   "source": [
    "def ticks_out(ax):\n",
    "    \"\"\"Move the ticks to the outside of the box.\"\"\"\n",
    "    ax.get_xaxis().set_tick_params(direction='out', width=1, which='both')\n",
    "    ax.get_yaxis().set_tick_params(direction='out', width=1, which='both')"
   ]
  },
  {
   "cell_type": "code",
   "execution_count": 6,
   "metadata": {
    "collapsed": false,
    "nbgrader": {
     "checksum": "701a9529400e32449715b0090b912d11",
     "solution": true
    }
   },
   "outputs": [],
   "source": [
    "def plot_random_line(m, b, sigma, size=10, color='red'):\n",
    "    \"\"\"Plot a random line with slope m, intercept b and size points.\"\"\"\n",
    "    x,y = random_line(m,b,sigma,size)\n",
    "    plt.figure(figsize=(11,5.5))\n",
    "    plt.scatter(x,y,color=color)\n",
    "    plt.title(\"A line with scaleable Gaussian noise\")\n",
    "    plt.xlabel(\"X values\")\n",
    "    plt.ylabel(\"Y values\")\n",
    "    plt.tick_params(axis='y',right='off',direction='out')\n",
    "    plt.tick_params(axis='x',top='off',direction='out')"
   ]
  },
  {
   "cell_type": "code",
   "execution_count": 7,
   "metadata": {
    "collapsed": false,
    "nbgrader": {
     "solution": false
    }
   },
   "outputs": [
    {
     "data": {
      "image/png": "[encoded data removed]",
      "text/plain": [
       "<matplotlib.figure.Figure at 0x7f598dba06d8>"
      ]
     },
     "metadata": {},
     "output_type": "display_data"
    }
   ],
   "source": [
    "plot_random_line(5.0, -1.0, 2.0, 50)"
   ]
  },
  {
   "cell_type": "code",
   "execution_count": 8,
   "metadata": {
    "collapsed": true,
    "deletable": false,
    "nbgrader": {
     "checksum": "b079fa9a413c8bc761692d3bfd9eb813",
     "grade": true,
     "grade_id": "interactex04b",
     "points": 4
    }
   },
   "outputs": [],
   "source": [
    "assert True # use this cell to grade the plot_random_line function"
   ]
  },
  {
   "cell_type": "markdown",
   "metadata": {
    "nbgrader": {}
   },
   "source": [
    "Use `interact` to explore the `plot_random_line` function using:\n",
    "\n",
    "* `m`: a float valued slider from `-10.0` to `10.0` with steps of `0.1`.\n",
    "* `b`: a float valued slider from `-5.0` to `5.0` with steps of `0.1`.\n",
    "* `sigma`: a float valued slider from `0.0` to `5.0` with steps of `0.01`.\n",
    "* `size`: an int valued slider from `10` to `100` with steps of `10`.\n",
    "* `color`: a dropdown with options for `red`, `green` and `blue`."
   ]
  },
  {
   "cell_type": "code",
   "execution_count": 9,
   "metadata": {
    "collapsed": false,
    "deletable": false,
    "nbgrader": {
     "checksum": "6cff4e8e53b15273846c3aecaea84a3d",
     "solution": true
    }
   },
   "outputs": [
    {
     "data": {
      "text/plain": [
       "<function __main__.plot_random_line>"
      ]
     },
     "execution_count": 9,
     "metadata": {},
     "output_type": "execute_result"
    },
    {
     "data": {
      "image/png": "[encoded data removed]",
      "text/plain": [
       "<matplotlib.figure.Figure at 0x7f598dba0d30>"
      ]
     },
     "metadata": {},
     "output_type": "display_data"
    }
   ],
   "source": [
    "interact(plot_random_line,m=(-10.0,10.0,0.1),b=(-5.0,5.0,0.1),sigma=(0.0,5.0,0.01),size=(10,100,10),color=(\"red\",\"green\",\"blue\"))"
   ]
  },
  {
   "cell_type": "code",
   "execution_count": 10,
   "metadata": {
    "collapsed": true,
    "deletable": false,
    "nbgrader": {
     "checksum": "49bbb321697a88612357059cba486cd3",
     "grade": true,
     "grade_id": "interactex04c",
     "points": 4
    }
   },
   "outputs": [],
   "source": [
    "#### assert True # use this cell to grade the plot_random_line interact"
   ]
  }
 ],
 "metadata": {
  "kernelspec": {
   "display_name": "Python 3",
   "language": "python",
   "name": "python3"
  },
  "language_info": {
   "codemirror_mode": {
    "name": "ipython",
    "version": 3
   },
   "file_extension": ".py",
   "mimetype": "text/x-python",
   "name": "python",
   "nbconvert_exporter": "python",
   "pygments_lexer": "ipython3",
   "version": "3.4.0"
  }
 },
 "nbformat": 4,
 "nbformat_minor": 0
}
