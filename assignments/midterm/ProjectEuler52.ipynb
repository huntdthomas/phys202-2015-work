{
 "cells": [
  {
   "cell_type": "markdown",
   "metadata": {
    "nbgrader": {}
   },
   "source": [
    "# Project Euler: Problem 52"
   ]
  },
  {
   "cell_type": "markdown",
   "metadata": {
    "nbgrader": {}
   },
   "source": [
    "https://projecteuler.net/problem=52\n",
    "\n",
    "It can be seen that the number, $125874$, and its double, $251748$, contain exactly the same digits, but in a different order.\n",
    "\n",
    "Find the smallest positive integer, $x$, such that $2x$, $3x$, $4x$, $5x$, and $6x$, contain the same digits."
   ]
  },
  {
   "cell_type": "markdown",
   "metadata": {
    "nbgrader": {}
   },
   "source": [
    "First, write a function `same_digits(x,y)` that returns `True` if two integers `x` and `y` have the exact same set of digits and multiplicities and `False` if they have different digits."
   ]
  },
  {
   "cell_type": "code",
   "execution_count": 61,
   "metadata": {
    "collapsed": false,
    "nbgrader": {
     "checksum": "aad5ed41801af39fc06f00c8d275a010",
     "solution": true
    }
   },
   "outputs": [
    {
     "data": {
      "text/plain": [
       "True"
      ]
     },
     "execution_count": 61,
     "metadata": {},
     "output_type": "execute_result"
    }
   ],
   "source": [
    "def same_digits(x, y):\n",
    "    \"\"\"Do the integers x and y have the same digits, regardless of order.\"\"\"\n",
    "    listx = list(x)\n",
    "    listy = list(y)\n",
    "    countx = {\n",
    "        '1': 0,\n",
    "        '2': 0,\n",
    "        '3': 0,\n",
    "        '4': 0,\n",
    "        '5': 0,\n",
    "        '6': 0,\n",
    "        '7': 0,\n",
    "        '8': 0,\n",
    "        '9': 0       \n",
    "    }\n",
    "    \n",
    "    county = {\n",
    "        '1': 0,\n",
    "        '2': 0,\n",
    "        '3': 0,\n",
    "        '4': 0,\n",
    "        '5': 0,\n",
    "        '6': 0,\n",
    "        '7': 0,\n",
    "        '8': 0,\n",
    "        '9': 0\n",
    "    }\n",
    "    for i in list(x):\n",
    "        if i in countx:\n",
    "            countx[i] += 1\n",
    "    for i in list(y):\n",
    "        if i in county:\n",
    "            county[i] += 1\n",
    "    if countx == county:\n",
    "        return True\n",
    "    else:\n",
    "        return False\n",
    "same_digits('232','322')"
   ]
  },
  {
   "cell_type": "code",
   "execution_count": 62,
   "metadata": {
    "collapsed": false,
    "deletable": false,
    "nbgrader": {
     "checksum": "dd0aff5d565bc794cee175aaa6c0cb3d",
     "grade": true,
     "grade_id": "projecteuler52a",
     "points": 4
    }
   },
   "outputs": [],
   "source": [
    "assert same_digits('132', '321')\n",
    "assert not same_digits('123', '3')\n",
    "assert not same_digits('456', '0987654321')"
   ]
  },
  {
   "cell_type": "markdown",
   "metadata": {
    "nbgrader": {}
   },
   "source": [
    "Now use the `same_digits` function to solve this Euler problem. As you work on this problem, be careful to debug and test your code on small integers before trying it on the full search."
   ]
  },
  {
   "cell_type": "code",
   "execution_count": 63,
   "metadata": {
    "collapsed": false,
    "deletable": false,
    "nbgrader": {
     "checksum": "6cff4e8e53b15273846c3aecaea84a3d",
     "solution": true
    }
   },
   "outputs": [
    {
     "name": "stdout",
     "output_type": "stream",
     "text": [
      "142857\n"
     ]
    }
   ],
   "source": [
    "#Find the smallest positive integer, x, such that 2x, 3x, 4x, 5x, and 6x, contain the same digits.\n",
    "\n",
    "i = 1\n",
    "i2 = i*2\n",
    "i3 = i*3\n",
    "i4 = i*4\n",
    "i5 = i*5\n",
    "i6 = i*6\n",
    "for i in range(0,1000000):\n",
    "    if same_digits(str(i),str(i2)) == True:\n",
    "        if same_digits(str(i2),str(i3)) == True:\n",
    "            if same_digits(str(i3),str(i4)) == True:\n",
    "                if same_digits(str(i4),str(i5)) == True:\n",
    "                    if same_digits(str(i5),str(i6)) == True:\n",
    "                        print(i)\n",
    "                        break\n",
    "    else:\n",
    "        i +=1\n",
    "        i2 = i*2\n",
    "        i3 = i*3\n",
    "        i4 = i*4\n",
    "        i5 = i*5\n",
    "        i6 = i*6\n",
    "#THESE LINES ARE JUST TO MANUALLY CHECK THE NUMBERS TO MAKE SURE IT WORKS\n",
    "# print(i)\n",
    "# print(i2)\n",
    "# print(i3)\n",
    "# print(i4)\n",
    "# print(i5)\n",
    "# print(i6)\n",
    "\n",
    "#ANSWER is 142857\n"
   ]
  },
  {
   "cell_type": "code",
   "execution_count": 64,
   "metadata": {
    "collapsed": true,
    "deletable": false,
    "nbgrader": {
     "checksum": "dafbda681e8fb50925790dc1d0600750",
     "grade": true,
     "grade_id": "projecteuler52b",
     "points": 6
    }
   },
   "outputs": [],
   "source": [
    "assert True # leave this cell to grade the solution"
   ]
  }
 ],
 "metadata": {
  "kernelspec": {
   "display_name": "Python 3",
   "language": "python",
   "name": "python3"
  },
  "language_info": {
   "codemirror_mode": {
    "name": "ipython",
    "version": 3
   },
   "file_extension": ".py",
   "mimetype": "text/x-python",
   "name": "python",
   "nbconvert_exporter": "python",
   "pygments_lexer": "ipython3",
   "version": "3.4.0"
  }
 },
 "nbformat": 4,
 "nbformat_minor": 0
}
