{
 "cells": [
  {
   "cell_type": "markdown",
   "metadata": {
    "nbgrader": {}
   },
   "source": [
    "# Interpolation Exercise 2"
   ]
  },
  {
   "cell_type": "code",
   "execution_count": 1,
   "metadata": {
    "collapsed": true,
    "nbgrader": {}
   },
   "outputs": [],
   "source": [
    "%matplotlib inline\n",
    "import matplotlib.pyplot as plt\n",
    "import seaborn as sns\n",
    "import numpy as np\n",
    "sns.set_style('white')"
   ]
  },
  {
   "cell_type": "code",
   "execution_count": 2,
   "metadata": {
    "collapsed": true,
    "nbgrader": {}
   },
   "outputs": [],
   "source": [
    "from scipy.interpolate import griddata"
   ]
  },
  {
   "cell_type": "markdown",
   "metadata": {
    "nbgrader": {}
   },
   "source": [
    "## Sparse 2d interpolation"
   ]
  },
  {
   "cell_type": "markdown",
   "metadata": {
    "nbgrader": {}
   },
   "source": [
    "In this example the values of a scalar field $f(x,y)$ are known at a very limited set of points in a square domain:\n",
    "\n",
    "* The square domain covers the region $x\\in[-5,5]$ and $y\\in[-5,5]$.\n",
    "* The values of $f(x,y)$ are zero on the boundary of the square at integer spaced points.\n",
    "* The value of $f$ is known at a single interior point: $f(0,0)=1.0$.\n",
    "* The function $f$ is not known at any other points.\n",
    "\n",
    "Create arrays `x`, `y`, `f`:\n",
    "\n",
    "* `x` should be a 1d array of the x coordinates on the boundary and the 1 interior point.\n",
    "* `y` should be a 1d array of the y coordinates on the boundary and the 1 interior point.\n",
    "* `f` should be a 1d array of the values of f at the corresponding x and y coordinates.\n",
    "\n",
    "You might find that `np.hstack` is helpful."
   ]
  },
  {
   "cell_type": "code",
   "execution_count": 95,
   "metadata": {
    "collapsed": false,
    "deletable": false,
    "nbgrader": {
     "checksum": "6cff4e8e53b15273846c3aecaea84a3d",
     "solution": true
    }
   },
   "outputs": [],
   "source": [
    "x = []\n",
    "y = []\n",
    "for i in range(-5,6,1):\n",
    "    x.append(i)\n",
    "    y.append(-5)\n",
    "for i in range(-4,5,1):\n",
    "    x.append(-5)\n",
    "    y.append(i)\n",
    "    x.append(5)\n",
    "    y.append(i)\n",
    "for i in range(-5,6,1):\n",
    "    x.append(i)\n",
    "    y.append(5)\n",
    "x.append(0)\n",
    "y.append(0)\n",
    "x = np.array(x)\n",
    "y = np.array(y)\n",
    "f = np.zeros(x.size)\n",
    "f[-1]=1"
   ]
  },
  {
   "cell_type": "markdown",
   "metadata": {
    "nbgrader": {}
   },
   "source": [
    "The following plot should show the points on the boundary and the single point in the interior:"
   ]
  },
  {
   "cell_type": "code",
   "execution_count": 96,
   "metadata": {
    "collapsed": false,
    "nbgrader": {}
   },
   "outputs": [
    {
     "data": {
      "image/png": "[encoded data removed]",
      "text/plain": [
       "<matplotlib.figure.Figure at 0x7f26dc7f63c8>"
      ]
     },
     "metadata": {},
     "output_type": "display_data"
    }
   ],
   "source": [
    "plt.scatter(x,y);"
   ]
  },
  {
   "cell_type": "code",
   "execution_count": 98,
   "metadata": {
    "collapsed": false,
    "deletable": false,
    "nbgrader": {
     "checksum": "85a55a369166b5dd4b83a2501dfb2c96",
     "grade": true,
     "grade_id": "interpolationex02a",
     "points": 4
    }
   },
   "outputs": [],
   "source": [
    "assert x.shape==(41,)\n",
    "assert y.shape==(41,)\n",
    "assert f.shape==(41,)\n",
    "assert np.count_nonzero(f)==1"
   ]
  },
  {
   "cell_type": "markdown",
   "metadata": {
    "nbgrader": {}
   },
   "source": [
    "Use `meshgrid` and `griddata` to interpolate the function $f(x,y)$ on the entire square domain:\n",
    "\n",
    "* `xnew` and `ynew` should be 1d arrays with 100 points between $[-5,5]$.\n",
    "* `Xnew` and `Ynew` should be 2d versions of `xnew` and `ynew` created by `meshgrid`.\n",
    "* `Fnew` should be a 2d array with the interpolated values of $f(x,y)$ at the points (`Xnew`,`Ynew`).\n",
    "* Use cubic spline interpolation."
   ]
  },
  {
   "cell_type": "code",
   "execution_count": 125,
   "metadata": {
    "collapsed": false,
    "deletable": false,
    "nbgrader": {
     "checksum": "6cff4e8e53b15273846c3aecaea84a3d",
     "solution": true
    }
   },
   "outputs": [],
   "source": [
    "xnew = np.linspace(x.min(),x.max(),100)\n",
    "ynew = np.linspace(y.min(),y.max(),100)\n",
    "Xnew, Ynew = np.meshgrid(xnew,ynew)\n",
    "Fnew = griddata((x,y),f,(Xnew,Ynew),method='cubic')"
   ]
  },
  {
   "cell_type": "code",
   "execution_count": 126,
   "metadata": {
    "collapsed": false,
    "deletable": false,
    "nbgrader": {
     "checksum": "a2a1e372d0667fc7364da63c20457eba",
     "grade": true,
     "grade_id": "interpolationex02b",
     "points": 4
    }
   },
   "outputs": [],
   "source": [
    "assert xnew.shape==(100,)\n",
    "assert ynew.shape==(100,)\n",
    "assert Xnew.shape==(100,100)\n",
    "assert Ynew.shape==(100,100)\n",
    "assert Fnew.shape==(100,100)"
   ]
  },
  {
   "cell_type": "markdown",
   "metadata": {
    "nbgrader": {}
   },
   "source": [
    "Plot the values of the interpolated scalar field using a contour plot. Customize your plot to make it effective and beautiful."
   ]
  },
  {
   "cell_type": "code",
   "execution_count": 133,
   "metadata": {
    "collapsed": false,
    "deletable": false,
    "nbgrader": {
     "checksum": "6cff4e8e53b15273846c3aecaea84a3d",
     "solution": true
    }
   },
   "outputs": [
    {
     "data": {
      "image/png": "[encoded data removed]",
      "text/plain": [
       "<matplotlib.figure.Figure at 0x7f26dca154a8>"
      ]
     },
     "metadata": {},
     "output_type": "display_data"
    }
   ],
   "source": [
    "plt.figure(figsize=(10,8))\n",
    "plt.contourf(Xnew,Ynew,Fnew,cmap='winter');\n",
    "plt.title(\"Interpolated Scalar Field as a function of $X$ and $Y$\")\n",
    "plt.xlabel(\"$X$ position\")\n",
    "plt.ylabel(\"$Y$ position\")\n",
    "plt.xticks(range(-5,6),range(-5,6))\n",
    "plt.yticks(range(-5,6),range(-5,6))\n",
    "plt.colorbar(shrink=0.75);"
   ]
  },
  {
   "cell_type": "code",
   "execution_count": null,
   "metadata": {
    "collapsed": true,
    "deletable": false,
    "nbgrader": {
     "checksum": "940d9f4857e7e157183e052256bad4d5",
     "grade": true,
     "grade_id": "interpolationex02c",
     "points": 2
    }
   },
   "outputs": [],
   "source": [
    "assert True # leave this to grade the plot"
   ]
  }
 ],
 "metadata": {
  "kernelspec": {
   "display_name": "Python 3",
   "language": "python",
   "name": "python3"
  },
  "language_info": {
   "codemirror_mode": {
    "name": "ipython",
    "version": 3
   },
   "file_extension": ".py",
   "mimetype": "text/x-python",
   "name": "python",
   "nbconvert_exporter": "python",
   "pygments_lexer": "ipython3",
   "version": "3.4.0"
  }
 },
 "nbformat": 4,
 "nbformat_minor": 0
}
